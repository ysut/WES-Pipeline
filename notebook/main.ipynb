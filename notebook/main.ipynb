{
 "cells": [
  {
   "cell_type": "code",
   "execution_count": 11,
   "metadata": {},
   "outputs": [],
   "source": [
    "import cyvcf2"
   ]
  },
  {
   "cell_type": "code",
   "execution_count": 12,
   "metadata": {},
   "outputs": [],
   "source": [
    "vcf = cyvcf2.VCF('VCFs/nf.vep.vcf')"
   ]
  },
  {
   "cell_type": "code",
   "execution_count": 25,
   "metadata": {},
   "outputs": [
    {
     "name": "stdout",
     "output_type": "stream",
     "text": [
      "21\t9907345\t.\tC\tT\t2111.8\tPASS\tAC=1;AF=0.5;AN=2;BaseQRankSum=0.204;DP=130;Dels=0;ExcessHet=3.0103;FS=0;HaplotypeScore=2.9975;MLEAC=1;MLEAF=0.5;MQ=66.15;MQ0=0;MQRankSum=0;QD=16.24;ReadPosRankSum=2.454;SOR=0.631;JpnMutation=+:575:428;CSQ=T|non_coding_transcript_exon_variant|MODIFIER|TEKT4P2|100132288|Transcript|NR_038327.2|transcribed_pseudogene|4/4||NR_038327.2:n.1457G>A||1457|||||rs1484255275||-1||SNV|EntrezGene|40046|YES|||RefSeq||||||0.5496|0.441|0.5817|0.534|0.6672|0.5438|0.5343|0.5411|0.5553|||||||||||||||\tGT:AD:DP:GQ:PL:JpnAD2\t0/1:36,94:130:99:2140,0,632:0.723\n",
      "\n",
      "CHROM: 21\n",
      "POS: 9907345\n",
      "ID: None\n",
      "REF: C\n",
      "ALT: ['T']\n",
      "QUAL: 2111.800048828125\n",
      "FILTER: None\n",
      "INFO: <cyvcf2.cyvcf2.INFO object at 0xffff50254600>\n",
      "FORMAT: ['GT', 'AD', 'DP', 'GQ', 'PL', 'JpnAD2']\n",
      "genotypes: [[0, 1, False]]\n",
      "genotypes: [1]\n",
      "genotypes: [False]\n",
      "genotypes: ['C/T']\n",
      "genotypes: [130]\n",
      "genotypes: [36]\n",
      "genotypes: [94]\n",
      "genotypes: [2140]\n",
      "genotypes: [0]\n",
      "AD: [[36 94]]\n",
      "DP: [[130]]\n",
      "GQ: [[99]]\n",
      "PL: [[2140    0  632]]\n",
      "GT: ['\\x02\\x04']\n"
     ]
    }
   ],
   "source": [
    "v = next(vcf)\n",
    "print(v)\n",
    "\n",
    "print(f\"CHROM: {v.CHROM}\")\n",
    "print(f\"POS: {v.POS}\")\n",
    "print(f\"ID: {v.ID}\")\n",
    "print(f\"REF: {v.REF}\")\n",
    "print(f\"ALT: {v.ALT}\")\n",
    "print(f\"QUAL: {v.QUAL}\")\n",
    "print(f\"FILTER: {v.FILTER}\")\n",
    "print(f\"INFO: {v.INFO}\")\n",
    "print(f\"FORMAT: {v.FORMAT}\")\n",
    "print(f\"genotypes: {v.genotypes}\")\n",
    "print(f\"genotypes: {v.gt_types}\")\n",
    "print(f\"genotypes: {v.gt_phases}\")\n",
    "print(f\"genotypes: {v.gt_bases}\")\n",
    "print(f\"genotypes: {v.gt_depths}\")\n",
    "print(f\"genotypes: {v.gt_ref_depths}\")\n",
    "print(f\"genotypes: {v.gt_alt_depths}\")\n",
    "print(f\"genotypes: {v.gt_phred_ll_homref}\")\n",
    "print(f\"genotypes: {v.gt_phred_ll_het}\")\n",
    "\n",
    "print(f\"AD: {v.format('AD')}\")\n",
    "print(f\"DP: {v.format('DP')}\")\n",
    "print(f\"GQ: {v.format('GQ')}\")\n",
    "print(f\"PL: {v.format('PL')}\")\n",
    "print(f\"GT: {v.format('GT')}\")"
   ]
  },
  {
   "cell_type": "code",
   "execution_count": 40,
   "metadata": {},
   "outputs": [],
   "source": [
    "# INFO\n",
    "csqs: list = v.INFO.get('CSQ').split('|')"
   ]
  },
  {
   "cell_type": "code",
   "execution_count": 44,
   "metadata": {},
   "outputs": [
    {
     "ename": "AttributeError",
     "evalue": "'cyvcf2.cyvcf2.Variant' object has no attribute 'header_iter'",
     "output_type": "error",
     "traceback": [
      "\u001b[0;31m---------------------------------------------------------------------------\u001b[0m",
      "\u001b[0;31mAttributeError\u001b[0m                            Traceback (most recent call last)",
      "Cell \u001b[0;32mIn[44], line 1\u001b[0m\n\u001b[0;32m----> 1\u001b[0m \u001b[43mv\u001b[49m\u001b[38;5;241;43m.\u001b[39;49m\u001b[43mheader_iter\u001b[49m()\n",
      "\u001b[0;31mAttributeError\u001b[0m: 'cyvcf2.cyvcf2.Variant' object has no attribute 'header_iter'"
     ]
    }
   ],
   "source": [
    "v.header_iter()"
   ]
  },
  {
   "cell_type": "code",
   "execution_count": 41,
   "metadata": {},
   "outputs": [
    {
     "name": "stdout",
     "output_type": "stream",
     "text": [
      "0 - T\n",
      "1 - non_coding_transcript_exon_variant\n",
      "2 - MODIFIER\n",
      "3 - TEKT4P2\n",
      "4 - 100132288\n",
      "5 - Transcript\n",
      "6 - NR_038327.2\n",
      "7 - transcribed_pseudogene\n",
      "8 - 4/4\n",
      "9 - \n",
      "10 - NR_038327.2:n.1457G>A\n",
      "11 - \n",
      "12 - 1457\n",
      "13 - \n",
      "14 - \n",
      "15 - \n",
      "16 - \n",
      "17 - rs1484255275\n",
      "18 - \n",
      "19 - -1\n",
      "20 - \n",
      "21 - SNV\n",
      "22 - EntrezGene\n",
      "23 - 40046\n",
      "24 - YES\n",
      "25 - \n",
      "26 - \n",
      "27 - RefSeq\n",
      "28 - \n",
      "29 - \n",
      "30 - \n",
      "31 - \n",
      "32 - \n",
      "33 - 0.5496\n",
      "34 - 0.441\n",
      "35 - 0.5817\n",
      "36 - 0.534\n",
      "37 - 0.6672\n",
      "38 - 0.5438\n",
      "39 - 0.5343\n",
      "40 - 0.5411\n",
      "41 - 0.5553\n",
      "42 - \n",
      "43 - \n",
      "44 - \n",
      "45 - \n",
      "46 - \n",
      "47 - \n",
      "48 - \n",
      "49 - \n",
      "50 - \n",
      "51 - \n",
      "52 - \n",
      "53 - \n",
      "54 - \n",
      "55 - \n",
      "56 - \n"
     ]
    }
   ],
   "source": [
    "for i, vep in enumerate(csqs):\n",
    "\tprint(f\"{i} - {vep}\")"
   ]
  },
  {
   "cell_type": "code",
   "execution_count": 27,
   "metadata": {},
   "outputs": [],
   "source": [
    "import numpy as np"
   ]
  },
  {
   "cell_type": "code",
   "execution_count": 31,
   "metadata": {},
   "outputs": [
    {
     "name": "stdout",
     "output_type": "stream",
     "text": [
      "AD: [[36 94]]\n",
      "DP: [[130]]\n",
      "AB: [[[0.27692308 0.72307692]]]\n"
     ]
    }
   ],
   "source": [
    "ad = v.format('AD')\n",
    "dp: np.ndarray = v.format('DP')\n",
    "\n",
    "# Allele balance\n",
    "print(f\"AD: {ad}\")\n",
    "print(f\"DP: {dp}\")\n",
    "print(f\"AB: {ad / dp[:, None]}\")"
   ]
  },
  {
   "cell_type": "code",
   "execution_count": 30,
   "metadata": {},
   "outputs": [
    {
     "data": {
      "text/plain": [
       "array([[3.61111111, 1.38297872]])"
      ]
     },
     "execution_count": 30,
     "metadata": {},
     "output_type": "execute_result"
    }
   ],
   "source": []
  },
  {
   "cell_type": "code",
   "execution_count": 3,
   "metadata": {},
   "outputs": [],
   "source": [
    "def main():\n",
    "\tvcf = cyvcf2.VCF('VCFs/nf.vep.vcf')\n",
    "\tfor variant in vcf:\n",
    "\t\tvariant.REF"
   ]
  },
  {
   "cell_type": "code",
   "execution_count": 5,
   "metadata": {},
   "outputs": [
    {
     "name": "stdout",
     "output_type": "stream",
     "text": [
      "VCFs  main.ipynb\n"
     ]
    }
   ],
   "source": [
    "!ls"
   ]
  },
  {
   "cell_type": "code",
   "execution_count": 45,
   "metadata": {},
   "outputs": [
    {
     "name": "stdout",
     "output_type": "stream",
     "text": [
      "##fileformat=VCFv4.2\n",
      "##FILTER=<ID=PASS,Description=\"All filters passed\">\n",
      "##contig=<ID=1,length=249250621,assembly=b37>\n",
      "##contig=<ID=2,length=243199373,assembly=b37>\n",
      "##contig=<ID=3,length=198022430,assembly=b37>\n",
      "##contig=<ID=4,length=191154276,assembly=b37>\n",
      "##contig=<ID=5,length=180915260,assembly=b37>\n",
      "##contig=<ID=6,length=171115067,assembly=b37>\n",
      "##contig=<ID=7,length=159138663,assembly=b37>\n",
      "##contig=<ID=8,length=146364022,assembly=b37>\n",
      "##contig=<ID=9,length=141213431,assembly=b37>\n",
      "##contig=<ID=10,length=135534747,assembly=b37>\n",
      "##contig=<ID=11,length=135006516,assembly=b37>\n",
      "##contig=<ID=12,assembly=b37,length=133851895>\n",
      "##contig=<ID=13,length=115169878,assembly=b37>\n",
      "##contig=<ID=14,length=107349540,assembly=b37>\n",
      "##contig=<ID=15,length=102531392,assembly=b37>\n",
      "##contig=<ID=16,length=90354753,assembly=b37>\n",
      "##contig=<ID=17,length=81195210,assembly=b37>\n",
      "##contig=<ID=18,length=78077248,assembly=b37>\n",
      "##contig=<ID=19,length=59128983,assembly=b37>\n",
      "##contig=<ID=20,assembly=b37,length=63025520>\n",
      "##contig=<ID=21,length=48129895,assembly=b37>\n",
      "##contig=<ID=22,length=51304566,assembly=b37>\n",
      "##contig=<ID=X,length=155270560,assembly=b37>\n",
      "##contig=<ID=Y,length=59373566,assembly=b37>\n",
      "##contig=<ID=MT,length=16569,assembly=b37>\n",
      "##contig=<ID=GL000207.1,assembly=b37,length=4262>\n",
      "##contig=<ID=GL000226.1,length=15008,assembly=b37>\n",
      "##contig=<ID=GL000229.1,length=19913,assembly=b37>\n",
      "##contig=<ID=GL000231.1,length=27386,assembly=b37>\n",
      "##contig=<ID=GL000210.1,assembly=b37,length=27682>\n",
      "##contig=<ID=GL000239.1,assembly=b37,length=33824>\n",
      "##contig=<ID=GL000235.1,length=34474,assembly=b37>\n",
      "##contig=<ID=GL000201.1,length=36148,assembly=b37>\n",
      "##contig=<ID=GL000247.1,length=36422,assembly=b37>\n",
      "##contig=<ID=GL000245.1,length=36651,assembly=b37>\n",
      "##contig=<ID=GL000197.1,length=37175,assembly=b37>\n",
      "##contig=<ID=GL000203.1,length=37498,assembly=b37>\n",
      "##contig=<ID=GL000246.1,assembly=b37,length=38154>\n",
      "##contig=<ID=GL000249.1,assembly=b37,length=38502>\n",
      "##contig=<ID=GL000196.1,length=38914,assembly=b37>\n",
      "##contig=<ID=GL000248.1,length=39786,assembly=b37>\n",
      "##contig=<ID=GL000244.1,length=39929,assembly=b37>\n",
      "##contig=<ID=GL000238.1,length=39939,assembly=b37>\n",
      "##contig=<ID=GL000202.1,length=40103,assembly=b37>\n",
      "##contig=<ID=GL000234.1,assembly=b37,length=40531>\n",
      "##contig=<ID=GL000232.1,length=40652,assembly=b37>\n",
      "##contig=<ID=GL000206.1,length=41001,assembly=b37>\n",
      "##contig=<ID=GL000240.1,length=41933,assembly=b37>\n",
      "##contig=<ID=GL000236.1,length=41934,assembly=b37>\n",
      "##contig=<ID=GL000241.1,length=42152,assembly=b37>\n",
      "##contig=<ID=GL000243.1,length=43341,assembly=b37>\n",
      "##contig=<ID=GL000242.1,length=43523,assembly=b37>\n",
      "##contig=<ID=GL000230.1,length=43691,assembly=b37>\n",
      "##contig=<ID=GL000237.1,length=45867,assembly=b37>\n",
      "##contig=<ID=GL000233.1,length=45941,assembly=b37>\n",
      "##contig=<ID=GL000204.1,assembly=b37,length=81310>\n",
      "##contig=<ID=GL000198.1,length=90085,assembly=b37>\n",
      "##contig=<ID=GL000208.1,assembly=b37,length=92689>\n",
      "##contig=<ID=GL000191.1,length=106433,assembly=b37>\n",
      "##contig=<ID=GL000227.1,length=128374,assembly=b37>\n",
      "##contig=<ID=GL000228.1,assembly=b37,length=129120>\n",
      "##contig=<ID=GL000214.1,length=137718,assembly=b37>\n",
      "##contig=<ID=GL000221.1,length=155397,assembly=b37>\n",
      "##contig=<ID=GL000209.1,length=159169,assembly=b37>\n",
      "##contig=<ID=GL000218.1,length=161147,assembly=b37>\n",
      "##contig=<ID=GL000220.1,length=161802,assembly=b37>\n",
      "##contig=<ID=GL000213.1,length=164239,assembly=b37>\n",
      "##contig=<ID=GL000211.1,length=166566,assembly=b37>\n",
      "##contig=<ID=GL000199.1,length=169874,assembly=b37>\n",
      "##contig=<ID=GL000217.1,assembly=b37,length=172149>\n",
      "##contig=<ID=GL000216.1,length=172294,assembly=b37>\n",
      "##contig=<ID=GL000215.1,length=172545,assembly=b37>\n",
      "##contig=<ID=GL000205.1,length=174588,assembly=b37>\n",
      "##contig=<ID=GL000219.1,length=179198,assembly=b37>\n",
      "##contig=<ID=GL000224.1,length=179693,assembly=b37>\n",
      "##contig=<ID=GL000223.1,length=180455,assembly=b37>\n",
      "##contig=<ID=GL000195.1,length=182896,assembly=b37>\n",
      "##contig=<ID=GL000212.1,length=186858,assembly=b37>\n",
      "##contig=<ID=GL000222.1,assembly=b37,length=186861>\n",
      "##contig=<ID=GL000200.1,length=187035,assembly=b37>\n",
      "##contig=<ID=GL000193.1,length=189789,assembly=b37>\n",
      "##contig=<ID=GL000194.1,length=191469,assembly=b37>\n",
      "##contig=<ID=GL000225.1,length=211173,assembly=b37>\n",
      "##contig=<ID=GL000192.1,length=547496,assembly=b37>\n",
      "##FILTER=<ID=FS200,Description=\"FS > 200.0\">\n",
      "##FILTER=<ID=FS60,Description=\"FS > 60.0\">\n",
      "##FILTER=<ID=LowQual,Description=\"Low quality\">\n",
      "##FILTER=<ID=MQ40,Description=\"MQ < 40.0\">\n",
      "##FILTER=<ID=MQRankSum-12.5,Description=\"MQRankSum < -12.5\">\n",
      "##FILTER=<ID=QD2.0,Description=\"QD < 2.0\">\n",
      "##FILTER=<ID=ReadPosRankSum-20.0,Description=\"ReadPosRankSum < -20.0\">\n",
      "##FILTER=<ID=ReadPosRankSum-8.0,Description=\"ReadPosRankSum < -8.0\">\n",
      "##FILTER=<ID=dbSNP,Description=\"DB\">\n",
      "##INFO=<ID=AC,Number=A,Type=Integer,Description=\"Allele count in genotypes, for each ALT allele, in the same order as listed\">\n",
      "##INFO=<ID=AF,Number=A,Type=Float,Description=\"Allele Frequency, for each ALT allele, in the same order as listed\">\n",
      "##INFO=<ID=AN,Number=1,Type=Integer,Description=\"Total number of alleles in called genotypes\">\n",
      "##INFO=<ID=BaseQRankSum,Number=1,Type=Float,Description=\"Z-score from Wilcoxon rank sum test of Alt Vs. Ref base qualities\">\n",
      "##INFO=<ID=DB,Number=0,Type=Flag,Description=\"dbSNP Membership\">\n",
      "##INFO=<ID=DP,Number=1,Type=Integer,Description=\"Approximate read depth; some reads may have been filtered\">\n",
      "##INFO=<ID=DS,Number=0,Type=Flag,Description=\"Were any of the samples downsampled?\">\n",
      "##INFO=<ID=Dels,Number=1,Type=Float,Description=\"Fraction of Reads Containing Spanning Deletions\">\n",
      "##INFO=<ID=ExcessHet,Number=1,Type=Float,Description=\"Phred-scaled p-value for exact test of excess heterozygosity\">\n",
      "##INFO=<ID=FS,Number=1,Type=Float,Description=\"Phred-scaled p-value using Fisher's exact test to detect strand bias\">\n",
      "##INFO=<ID=HaplotypeScore,Number=1,Type=Float,Description=\"Consistency of the site with at most two segregating haplotypes\">\n",
      "##INFO=<ID=InbreedingCoeff,Number=1,Type=Float,Description=\"Inbreeding coefficient as estimated from the genotype likelihoods per-sample when compared against the Hardy-Weinberg expectation\">\n",
      "##INFO=<ID=JpnMutation,Number=3,Type=String,Description=\"Normal Control Allele Prevalence\">\n",
      "##INFO=<ID=MLEAC,Number=A,Type=Integer,Description=\"Maximum likelihood expectation (MLE) for the allele counts (not necessarily the same as the AC), for each ALT allele, in the same order as listed\">\n",
      "##INFO=<ID=MLEAF,Number=A,Type=Float,Description=\"Maximum likelihood expectation (MLE) for the allele frequency (not necessarily the same as the AF), for each ALT allele, in the same order as listed\">\n",
      "##INFO=<ID=MQ,Number=1,Type=Float,Description=\"RMS Mapping Quality\">\n",
      "##INFO=<ID=MQ0,Number=1,Type=Integer,Description=\"Total Mapping Quality Zero Reads\">\n",
      "##INFO=<ID=MQRankSum,Number=1,Type=Float,Description=\"Z-score From Wilcoxon rank sum test of Alt vs. Ref read mapping qualities\">\n",
      "##INFO=<ID=QD,Number=1,Type=Float,Description=\"Variant Confidence/Quality by Depth\">\n",
      "##INFO=<ID=RPA,Number=.,Type=Integer,Description=\"Number of times tandem repeat unit is repeated, for each allele (including reference)\">\n",
      "##INFO=<ID=RU,Number=1,Type=String,Description=\"Tandem repeat unit (bases)\">\n",
      "##INFO=<ID=ReadPosRankSum,Number=1,Type=Float,Description=\"Z-score from Wilcoxon rank sum test of Alt vs. Ref read position bias\">\n",
      "##INFO=<ID=SOR,Number=1,Type=Float,Description=\"Symmetric Odds Ratio of 2x2 contingency table to detect strand bias\">\n",
      "##INFO=<ID=STR,Number=0,Type=Flag,Description=\"Variant is a short tandem repeat\">\n",
      "##INFO=<ID=dbSNPcommon,Number=0,Type=Flag,Description=\"calculated by flag of overlapping values in field COMMON from /home/utsu/resources/vcfanno_resources/dbSNP-b156/GCF_000001405.25.singleALT.common.chrmod.sort.vcf.gz\">\n",
      "##INFO=<ID=rgcme_af_ALL,Number=1,Type=Float,Description=\"Alternate allele frequency, ALL (from /home/utsu/resources/vcfanno_resources/RGC-ME/GRCh37/rgc_me_variant_frequencies_all_20231004_GRCh37_remap.passed.sort.vcf.gz)\">\n",
      "##INFO=<ID=set,Number=1,Type=String,Description=\"Source VCF for the merged record in CombineVariants\">\n",
      "##FORMAT=<ID=AD,Number=R,Type=Integer,Description=\"Allelic depths for the ref and alt alleles in the order listed\">\n",
      "##FORMAT=<ID=DP,Number=1,Type=Integer,Description=\"Approximate read depth (reads with MQ=255 or with bad mates are filtered)\">\n",
      "##FORMAT=<ID=GQ,Number=1,Type=Integer,Description=\"Genotype Quality\">\n",
      "##FORMAT=<ID=GT,Number=1,Type=String,Description=\"Genotype\">\n",
      "##FORMAT=<ID=JpnAD2,Number=1,Type=String,Description=\"Japanese mutation allele depth\">\n",
      "##FORMAT=<ID=PL,Number=G,Type=Integer,Description=\"Normalized, Phred-scaled likelihoods for genotypes as defined in the VCF specification\">\n",
      "##GATKCommandLine.CombineVariants=<ID=CombineVariants,Version=3.7-0-gcfedb67,Date=\"Thu Feb 22 20:51:40 JST 2024\",Epoch=1708602700487,CommandLineOptions=\"analysis_type=CombineVariants input_file=[] showFullBamList=false read_buffer_size=null read_filter=[] disable_read_filter=[] intervals=null excludeIntervals=null interval_set_rule=UNION interval_merging=ALL interval_padding=0 reference_sequence=/usr/local/bio/db/riker/bundle_b37/human_g1k_v37_fix.fasta nonDeterministicRandomSeed=false disableDithering=false maxRuntime=-1 maxRuntimeUnits=MINUTES downsampling_type=BY_SAMPLE downsample_to_fraction=null downsample_to_coverage=1000 baq=OFF baqGapOpenPenalty=40.0 refactor_NDN_cigar_string=false fix_misencoded_quality_scores=false allow_potentially_misencoded_quality_scores=false useOriginalQualities=false defaultBaseQualities=-1 performanceLog=null BQSR=null quantize_quals=0 static_quantized_quals=null round_down_quantized=false disable_indel_quals=false emit_original_quals=false preserve_qscores_less_than=6 globalQScorePrior=-1.0 secondsBetweenProgressUpdates=10 validation_strictness=SILENT remove_program_records=false keep_program_records=false sample_rename_mapping_file=null unsafe=null disable_auto_index_creation_and_locking_when_reading_rods=false no_cmdline_in_header=false sites_only=false never_trim_vcf_format_field=false bcf=false bam_compression=null simplifyBAM=false disable_bam_indexing=false generate_md5=false num_threads=1 num_cpu_threads_per_data_thread=1 num_io_threads=0 monitorThreadEfficiency=false num_bam_file_handles=null read_group_black_list=null pedigree=[] pedigreeString=[] pedigreeValidationType=STRICT allow_intervals_with_unindexed_bam=false generateShadowBCF=false variant_index_type=DYNAMIC_SEEK variant_index_parameter=-1 reference_window_stop=0 phone_home= gatk_key=null tag=NA logging_level=INFO log_to_file=null help=false version=false variant=[(RodBindingCollection [(RodBinding name=variant source=/betelgeuse07/analysis/utsu/WES/185/Project_33665/genotyping/riker.filtered_snp.vcf)]), (RodBindingCollection [(RodBinding name=variant2 source=/betelgeuse07/analysis/utsu/WES/185/Project_33665/genotyping/riker.filtered_indel.vcf)])] out=/betelgeuse07/analysis/utsu/WES/185/Project_33665/genotyping/riker.filtered.vcf genotypemergeoption=null filteredrecordsmergetype=KEEP_IF_ANY_UNFILTERED multipleallelesmergetype=BY_TYPE rod_priority_list=null printComplexMerges=false filteredAreUncalled=false minimalVCF=false excludeNonVariants=false setKey=set assumeIdenticalSamples=true minimumN=1 suppressCommandLineHeader=false mergeInfoWithMaxAC=false filter_reads_with_N_cigar=false filter_mismatching_base_and_quals=false filter_bases_not_stored=false\">\n",
      "##GATKCommandLine.SelectVariants.2=<ID=SelectVariants,Version=3.7-0-gcfedb67,Date=\"Thu Feb 22 20:52:10 JST 2024\",Epoch=1708602730395,CommandLineOptions=\"analysis_type=SelectVariants input_file=[] showFullBamList=false read_buffer_size=null read_filter=[] disable_read_filter=[] intervals=null excludeIntervals=null interval_set_rule=UNION interval_merging=ALL interval_padding=0 reference_sequence=/usr/local/bio/db/riker/bundle_b37/human_g1k_v37_fix.fasta nonDeterministicRandomSeed=false disableDithering=false maxRuntime=-1 maxRuntimeUnits=MINUTES downsampling_type=BY_SAMPLE downsample_to_fraction=null downsample_to_coverage=1000 baq=OFF baqGapOpenPenalty=40.0 refactor_NDN_cigar_string=false fix_misencoded_quality_scores=false allow_potentially_misencoded_quality_scores=false useOriginalQualities=false defaultBaseQualities=-1 performanceLog=null BQSR=null quantize_quals=0 static_quantized_quals=null round_down_quantized=false disable_indel_quals=false emit_original_quals=false preserve_qscores_less_than=6 globalQScorePrior=-1.0 secondsBetweenProgressUpdates=10 validation_strictness=SILENT remove_program_records=false keep_program_records=false sample_rename_mapping_file=null unsafe=null disable_auto_index_creation_and_locking_when_reading_rods=false no_cmdline_in_header=false sites_only=false never_trim_vcf_format_field=false bcf=false bam_compression=null simplifyBAM=false disable_bam_indexing=false generate_md5=false num_threads=1 num_cpu_threads_per_data_thread=1 num_io_threads=0 monitorThreadEfficiency=false num_bam_file_handles=null read_group_black_list=null pedigree=[] pedigreeString=[] pedigreeValidationType=STRICT allow_intervals_with_unindexed_bam=false generateShadowBCF=false variant_index_type=DYNAMIC_SEEK variant_index_parameter=-1 reference_window_stop=0 phone_home= gatk_key=null tag=NA logging_level=INFO log_to_file=null help=false version=false variant=(RodBinding name=variant source=/betelgeuse07/analysis/utsu/WES/185/Project_33665/genotyping/riker.filtered.vcf) discordance=(RodBinding name= source=UNBOUND) concordance=(RodBinding name= source=UNBOUND) out=/betelgeuse07/analysis/utsu/WES/185/Project_33665/genotyping/riker.private.vcf sample_name=[] sample_expressions=null sample_file=null exclude_sample_name=[] exclude_sample_file=[] exclude_sample_expressions=[] selectexpressions=[] invertselect=false excludeNonVariants=false excludeFiltered=true preserveAlleles=false removeUnusedAlternates=false restrictAllelesTo=ALL keepOriginalAC=false keepOriginalDP=false mendelianViolation=false invertMendelianViolation=false mendelianViolationQualThreshold=0.0 select_random_fraction=0.0 remove_fraction_genotypes=0.0 selectTypeToInclude=[] selectTypeToExclude=[] keepIDs=null excludeIDs=null fullyDecode=false justRead=false maxIndelSize=2147483647 minIndelSize=0 maxFilteredGenotypes=2147483647 minFilteredGenotypes=0 maxFractionFilteredGenotypes=1.0 minFractionFilteredGenotypes=0.0 maxNOCALLnumber=2147483647 maxNOCALLfraction=1.0 setFilteredGtToNocall=false ALLOW_NONOVERLAPPING_COMMAND_LINE_SAMPLES=false forceValidOutput=false filter_reads_with_N_cigar=false filter_mismatching_base_and_quals=false filter_bases_not_stored=false\">\n",
      "##GATKCommandLine.SelectVariants=<ID=SelectVariants,Version=3.7-0-gcfedb67,Date=\"Thu Feb 22 20:49:39 JST 2024\",Epoch=1708602579981,CommandLineOptions=\"analysis_type=SelectVariants input_file=[] showFullBamList=false read_buffer_size=null read_filter=[] disable_read_filter=[] intervals=null excludeIntervals=null interval_set_rule=UNION interval_merging=ALL interval_padding=0 reference_sequence=/usr/local/bio/db/riker/bundle_b37/human_g1k_v37_fix.fasta nonDeterministicRandomSeed=false disableDithering=false maxRuntime=-1 maxRuntimeUnits=MINUTES downsampling_type=BY_SAMPLE downsample_to_fraction=null downsample_to_coverage=1000 baq=OFF baqGapOpenPenalty=40.0 refactor_NDN_cigar_string=false fix_misencoded_quality_scores=false allow_potentially_misencoded_quality_scores=false useOriginalQualities=false defaultBaseQualities=-1 performanceLog=null BQSR=null quantize_quals=0 static_quantized_quals=null round_down_quantized=false disable_indel_quals=false emit_original_quals=false preserve_qscores_less_than=6 globalQScorePrior=-1.0 secondsBetweenProgressUpdates=10 validation_strictness=SILENT remove_program_records=false keep_program_records=false sample_rename_mapping_file=null unsafe=null disable_auto_index_creation_and_locking_when_reading_rods=false no_cmdline_in_header=false sites_only=false never_trim_vcf_format_field=false bcf=false bam_compression=null simplifyBAM=false disable_bam_indexing=false generate_md5=false num_threads=1 num_cpu_threads_per_data_thread=1 num_io_threads=0 monitorThreadEfficiency=false num_bam_file_handles=null read_group_black_list=null pedigree=[] pedigreeString=[] pedigreeValidationType=STRICT allow_intervals_with_unindexed_bam=false generateShadowBCF=false variant_index_type=DYNAMIC_SEEK variant_index_parameter=-1 reference_window_stop=0 phone_home= gatk_key=null tag=NA logging_level=INFO log_to_file=null help=false version=false variant=(RodBinding name=variant source=/betelgeuse07/analysis/utsu/WES/185/Project_33665/genotyping/riker.raw.vcf) discordance=(RodBinding name= source=UNBOUND) concordance=(RodBinding name= source=UNBOUND) out=/betelgeuse07/analysis/utsu/WES/185/Project_33665/genotyping/riker.raw_snp.vcf sample_name=[] sample_expressions=null sample_file=null exclude_sample_name=[] exclude_sample_file=[] exclude_sample_expressions=[] selectexpressions=[] invertselect=false excludeNonVariants=false excludeFiltered=false preserveAlleles=false removeUnusedAlternates=false restrictAllelesTo=ALL keepOriginalAC=false keepOriginalDP=false mendelianViolation=false invertMendelianViolation=false mendelianViolationQualThreshold=0.0 select_random_fraction=0.0 remove_fraction_genotypes=0.0 selectTypeToInclude=[SNP] selectTypeToExclude=[] keepIDs=null excludeIDs=null fullyDecode=false justRead=false maxIndelSize=2147483647 minIndelSize=0 maxFilteredGenotypes=2147483647 minFilteredGenotypes=0 maxFractionFilteredGenotypes=1.0 minFractionFilteredGenotypes=0.0 maxNOCALLnumber=2147483647 maxNOCALLfraction=1.0 setFilteredGtToNocall=false ALLOW_NONOVERLAPPING_COMMAND_LINE_SAMPLES=false forceValidOutput=false filter_reads_with_N_cigar=false filter_mismatching_base_and_quals=false filter_bases_not_stored=false\">\n",
      "##GATKCommandLine.UnifiedGenotyper=<ID=UnifiedGenotyper,Version=3.7-0-gcfedb67,Date=\"Thu Feb 22 19:40:32 JST 2024\",Epoch=1708598432303,CommandLineOptions=\"analysis_type=UnifiedGenotyper input_file=[/betelgeuse07/analysis/utsu/WES/185/Project_33665/preparation/Sample_33665/Sample_33665.recal.bam] showFullBamList=false read_buffer_size=null read_filter=[] disable_read_filter=[] intervals=null excludeIntervals=null interval_set_rule=UNION interval_merging=ALL interval_padding=0 reference_sequence=/usr/local/bio/db/riker/bundle_b37/human_g1k_v37_fix.fasta nonDeterministicRandomSeed=false disableDithering=false maxRuntime=-1 maxRuntimeUnits=MINUTES downsampling_type=BY_SAMPLE downsample_to_fraction=null downsample_to_coverage=250 baq=OFF baqGapOpenPenalty=40.0 refactor_NDN_cigar_string=false fix_misencoded_quality_scores=false allow_potentially_misencoded_quality_scores=false useOriginalQualities=false defaultBaseQualities=-1 performanceLog=null BQSR=null quantize_quals=0 static_quantized_quals=null round_down_quantized=false disable_indel_quals=false emit_original_quals=false preserve_qscores_less_than=6 globalQScorePrior=-1.0 secondsBetweenProgressUpdates=10 validation_strictness=SILENT remove_program_records=false keep_program_records=false sample_rename_mapping_file=null unsafe=null disable_auto_index_creation_and_locking_when_reading_rods=false no_cmdline_in_header=false sites_only=false never_trim_vcf_format_field=false bcf=false bam_compression=null simplifyBAM=false disable_bam_indexing=false generate_md5=false num_threads=1 num_cpu_threads_per_data_thread=1 num_io_threads=0 monitorThreadEfficiency=false num_bam_file_handles=null read_group_black_list=null pedigree=[] pedigreeString=[] pedigreeValidationType=STRICT allow_intervals_with_unindexed_bam=false generateShadowBCF=false variant_index_type=DYNAMIC_SEEK variant_index_parameter=-1 reference_window_stop=0 phone_home= gatk_key=null tag=NA logging_level=INFO log_to_file=null help=false version=false genotype_likelihoods_model=BOTH pcr_error_rate=1.0E-4 computeSLOD=false pair_hmm_implementation=LOGLESS_CACHING min_base_quality_score=17 max_deletion_fraction=0.05 min_indel_count_for_genotyping=5 min_indel_fraction_per_sample=0.25 indelGapContinuationPenalty=10 indelGapOpenPenalty=45 indelHaplotypeSize=80 indelDebug=false ignoreSNPAlleles=false allReadsSP=false ignoreLaneInfo=false reference_sample_calls=(RodBinding name= source=UNBOUND) reference_sample_name=null min_quality_score=1 max_quality_score=40 site_quality_prior=20 min_power_threshold_for_calling=0.95 annotateNDA=false useNewAFCalculator=false heterozygosity=0.001 indel_heterozygosity=1.25E-4 heterozygosity_stdev=0.01 standard_min_confidence_threshold_for_calling=50.0 standard_min_confidence_threshold_for_emitting=30.0 max_alternate_alleles=6 max_genotype_count=1024 max_num_PL_values=100 input_prior=[] sample_ploidy=2 genotyping_mode=DISCOVERY alleles=(RodBinding name= source=UNBOUND) contamination_fraction_to_filter=0.0 contamination_fraction_per_sample_file=null p_nonref_model=null exactcallslog=null output_mode=EMIT_VARIANTS_ONLY allSitePLs=false dbsnp=(RodBinding name=dbsnp source=/usr/local/bio/db/riker/bundle_b37/dbsnp135_common_without_disease.vcf) comp=[] out=/betelgeuse07/analysis/utsu/WES/185/Project_33665/genotyping/riker.raw.vcf onlyEmitSamples=[] debug_file=null metrics_file=null annotation=[] excludeAnnotation=[] filter_reads_with_N_cigar=false filter_mismatching_base_and_quals=false filter_bases_not_stored=false\">\n",
      "##GATKCommandLine.VariantFiltration=<ID=VariantFiltration,Version=3.7-0-gcfedb67,Date=\"Thu Feb 22 20:50:40 JST 2024\",Epoch=1708602640402,CommandLineOptions=\"analysis_type=VariantFiltration input_file=[] showFullBamList=false read_buffer_size=null read_filter=[] disable_read_filter=[] intervals=[/betelgeuse07/analysis/utsu/WES/185/Project_33665/.queue/scatterGather/HPCManualFilter-3-sg/temp_1_of_4/scatter.intervals] excludeIntervals=null interval_set_rule=UNION interval_merging=ALL interval_padding=0 reference_sequence=/usr/local/bio/db/riker/bundle_b37/human_g1k_v37_fix.fasta nonDeterministicRandomSeed=false disableDithering=false maxRuntime=-1 maxRuntimeUnits=MINUTES downsampling_type=BY_SAMPLE downsample_to_fraction=null downsample_to_coverage=1000 baq=OFF baqGapOpenPenalty=40.0 refactor_NDN_cigar_string=false fix_misencoded_quality_scores=false allow_potentially_misencoded_quality_scores=false useOriginalQualities=false defaultBaseQualities=-1 performanceLog=null BQSR=null quantize_quals=0 static_quantized_quals=null round_down_quantized=false disable_indel_quals=false emit_original_quals=false preserve_qscores_less_than=6 globalQScorePrior=-1.0 secondsBetweenProgressUpdates=10 validation_strictness=SILENT remove_program_records=false keep_program_records=false sample_rename_mapping_file=null unsafe=null disable_auto_index_creation_and_locking_when_reading_rods=false no_cmdline_in_header=false sites_only=false never_trim_vcf_format_field=false bcf=false bam_compression=null simplifyBAM=false disable_bam_indexing=false generate_md5=false num_threads=1 num_cpu_threads_per_data_thread=1 num_io_threads=0 monitorThreadEfficiency=false num_bam_file_handles=null read_group_black_list=null pedigree=[] pedigreeString=[] pedigreeValidationType=STRICT allow_intervals_with_unindexed_bam=false generateShadowBCF=false variant_index_type=DYNAMIC_SEEK variant_index_parameter=-1 reference_window_stop=0 phone_home= gatk_key=null tag=NA logging_level=INFO log_to_file=null help=false version=false variant=(RodBinding name=variant source=/betelgeuse07/analysis/utsu/WES/185/Project_33665/genotyping/riker.raw_snp.vcf) mask=(RodBinding name= source=UNBOUND) out=/betelgeuse07/analysis/utsu/WES/185/Project_33665/.queue/scatterGather/HPCManualFilter-3-sg/temp_1_of_4/riker.filtered_snp.vcf filterExpression=[QD < 2.0, MQ < 40.0, FS > 60.0, MQRankSum < -12.5, ReadPosRankSum < -8.0, DB] filterName=[QD2.0, MQ40, FS60, MQRankSum-12.5, ReadPosRankSum-8.0, dbSNP] genotypeFilterExpression=[] genotypeFilterName=[] clusterSize=3 clusterWindowSize=0 maskExtension=0 maskName=Mask filterNotInMask=false missingValuesInExpressionsShouldEvaluateAsFailing=false invalidatePreviousFilters=false invertFilterExpression=false invertGenotypeFilterExpression=false setFilteredGtToNocall=false filter_reads_with_N_cigar=false filter_mismatching_base_and_quals=false filter_bases_not_stored=false\">\n",
      "##reference=file:///usr/local/bio/db/riker/bundle_b37/human_g1k_v37_fix.fasta\n",
      "##source=SelectVariants\n",
      "##bcftools_viewVersion=1.13+htslib-1.13+ds\n",
      "##bcftools_viewCommand=view --threads 4 --regions 21 --output-type v --output chr.vcf real.vcf.gz; Date=Sat Aug 17 21:08:26 2024\n",
      "##vcfanno=0.3.5\n",
      "##bcftools_viewCommand=view --threads 4 --exclude 'dbSNPcommon=1 || rgcme_af_ALL > 0.05' --output-type v --output uncommon.vcf dbsnp.vcf; Date=Sat Aug 17 21:08:27 2024\n",
      "##VEP=\"v112.0\" API=\"v112\" time=\"2024-08-17 12:08:28\" cache=\"/data/homo_sapiens_merged/112_GRCh37\" ensembl=112.7104005 ensembl-funcgen=112.be19ffa ensembl-io=112.2851b6f ensembl-variation=112.4113356 1000genomes=\"phase3\" COSMIC=\"98\" ClinVar=\"202306\" HGMD-PUBLIC=\"20204\" assembly=\"GRCh37.p13\" dbSNP=\"156\" gencode=\"GENCODE 19\" genebuild=\"2011-04\" gnomADe=\"r2.1\" polyphen=\"2.2.2\" refseq=\"105.20220307 - GCF_000001405.25_GRCh37.p13_genomic.gff\" regbuild=\"1.0\" sift=\"sift5.2.2\"\n",
      "##INFO=<ID=CSQ,Number=.,Type=String,Description=\"Consequence annotations from Ensembl VEP. Format: Allele|Consequence|IMPACT|SYMBOL|Gene|Feature_type|Feature|BIOTYPE|EXON|INTRON|HGVSc|HGVSp|cDNA_position|CDS_position|Protein_position|Amino_acids|Codons|Existing_variation|DISTANCE|STRAND|FLAGS|VARIANT_CLASS|SYMBOL_SOURCE|HGNC_ID|CANONICAL|RefSeq|REFSEQ_MATCH|SOURCE|REFSEQ_OFFSET|GENE_PHENO|SIFT|PolyPhen|HGVS_OFFSET|gnomADe_AF|gnomADe_AFR_AF|gnomADe_AMR_AF|gnomADe_ASJ_AF|gnomADe_EAS_AF|gnomADe_FIN_AF|gnomADe_NFE_AF|gnomADe_OTH_AF|gnomADe_SAS_AF|gnomADg_AF|gnomADg_AFR_AF|gnomADg_AMI_AF|gnomADg_AMR_AF|gnomADg_ASJ_AF|gnomADg_EAS_AF|gnomADg_FIN_AF|gnomADg_MID_AF|gnomADg_NFE_AF|gnomADg_OTH_AF|gnomADg_SAS_AF|CLIN_SIG|SOMATIC|PHENO|PUBMED\">\n",
      "##VEP-command-line='vep --af_gnomade --af_gnomadg --assembly GRCh37 --cache --canonical --database 0 --dir_cache /data --dir_plugins /plugins --fasta [PATH]/human_g1k_v37_fix.fasta --force_overwrite --format vcf --gene_phenotype --hgvs --hgvsp_use_prediction --input_file uncommon.vcf --merged --no_stats --numbers --offline --output_file nf.vep.vcf --pick_allele --polyphen b --pubmed --sift b --symbol --use_given_ref --variant_class --vcf --xref_refseq'\n",
      "#CHROM\tPOS\tID\tREF\tALT\tQUAL\tFILTER\tINFO\tFORMAT\tSample_33665\n"
     ]
    }
   ],
   "source": [
    "! cat VCFs/nf.vep.vcf | head -n 1000 | grep ^#"
   ]
  },
  {
   "cell_type": "code",
   "execution_count": 10,
   "metadata": {},
   "outputs": [
    {
     "ename": "NameError",
     "evalue": "name 'cyvcf2' is not defined",
     "output_type": "error",
     "traceback": [
      "\u001b[0;31m---------------------------------------------------------------------------\u001b[0m",
      "\u001b[0;31mNameError\u001b[0m                                 Traceback (most recent call last)",
      "Cell \u001b[0;32mIn[10], line 1\u001b[0m\n\u001b[0;32m----> 1\u001b[0m vcf \u001b[38;5;241m=\u001b[39m \u001b[43mcyvcf2\u001b[49m\u001b[38;5;241m.\u001b[39mVCF(\u001b[38;5;124m'\u001b[39m\u001b[38;5;124mVCFs/nf.vep.vcf\u001b[39m\u001b[38;5;124m'\u001b[39m)\n",
      "\u001b[0;31mNameError\u001b[0m: name 'cyvcf2' is not defined"
     ]
    }
   ],
   "source": [
    "vcf = cyvcf2.VCF('VCFs/nf.vep.vcf')"
   ]
  },
  {
   "cell_type": "code",
   "execution_count": 1,
   "metadata": {},
   "outputs": [
    {
     "name": "stdout",
     "output_type": "stream",
     "text": [
      "0\n",
      "1\n",
      "2\n",
      "3\n",
      "4\n",
      "5\n",
      "6\n",
      "7\n",
      "8\n",
      "9\n"
     ]
    }
   ],
   "source": [
    "for i in range(10):\n",
    "\tprint(i)"
   ]
  },
  {
   "cell_type": "code",
   "execution_count": null,
   "metadata": {},
   "outputs": [],
   "source": []
  }
 ],
 "metadata": {
  "kernelspec": {
   "display_name": "base",
   "language": "python",
   "name": "python3"
  },
  "language_info": {
   "codemirror_mode": {
    "name": "ipython",
    "version": 3
   },
   "file_extension": ".py",
   "mimetype": "text/x-python",
   "name": "python",
   "nbconvert_exporter": "python",
   "pygments_lexer": "ipython3",
   "version": "3.9.19"
  }
 },
 "nbformat": 4,
 "nbformat_minor": 2
}
